{
  "nbformat": 4,
  "nbformat_minor": 0,
  "metadata": {
    "colab": {
      "name": "TF Basics.ipynb",
      "provenance": [],
      "collapsed_sections": [],
      "authorship_tag": "ABX9TyOF3W5VAgVTzxJVXJKfVttA",
      "include_colab_link": true
    },
    "kernelspec": {
      "name": "python3",
      "display_name": "Python 3"
    },
    "language_info": {
      "name": "python"
    }
  },
  "cells": [
    {
      "cell_type": "markdown",
      "metadata": {
        "id": "view-in-github",
        "colab_type": "text"
      },
      "source": [
        "<a href=\"https://colab.research.google.com/github/Pallab18/tensorflow_notebooks/blob/notebooks/TF_Basics.ipynb\" target=\"_parent\"><img src=\"https://colab.research.google.com/assets/colab-badge.svg\" alt=\"Open In Colab\"/></a>"
      ]
    },
    {
      "cell_type": "markdown",
      "metadata": {
        "id": "y7xHu4Bpwz3A"
      },
      "source": [
        "# Creating Tensors"
      ]
    },
    {
      "cell_type": "code",
      "metadata": {
        "id": "CHG-6RVyS8FD"
      },
      "source": [
        "import tensorflow as tf"
      ],
      "execution_count": 1,
      "outputs": []
    },
    {
      "cell_type": "code",
      "metadata": {
        "id": "UC24AnOxTBIB",
        "colab": {
          "base_uri": "https://localhost:8080/"
        },
        "outputId": "4b246e01-b711-4d3f-aaf2-92dc05aaadf2"
      },
      "source": [
        "scalar=tf.constant(7)\n",
        "scalar"
      ],
      "execution_count": 2,
      "outputs": [
        {
          "output_type": "execute_result",
          "data": {
            "text/plain": [
              "<tf.Tensor: shape=(), dtype=int32, numpy=7>"
            ]
          },
          "metadata": {
            "tags": []
          },
          "execution_count": 2
        }
      ]
    },
    {
      "cell_type": "code",
      "metadata": {
        "id": "wzdmV6OPTBW-",
        "colab": {
          "base_uri": "https://localhost:8080/",
          "height": 35
        },
        "outputId": "c41e15ce-ea97-4230-babe-d3adfcccf5d3"
      },
      "source": [
        "tf.__version__"
      ],
      "execution_count": 3,
      "outputs": [
        {
          "output_type": "execute_result",
          "data": {
            "application/vnd.google.colaboratory.intrinsic+json": {
              "type": "string"
            },
            "text/plain": [
              "'2.5.0'"
            ]
          },
          "metadata": {
            "tags": []
          },
          "execution_count": 3
        }
      ]
    },
    {
      "cell_type": "code",
      "metadata": {
        "id": "GoEqwIx8TBbR",
        "colab": {
          "base_uri": "https://localhost:8080/"
        },
        "outputId": "0d34e73a-fd86-4915-b4f1-caef1f533d4c"
      },
      "source": [
        "scalar.ndim"
      ],
      "execution_count": 4,
      "outputs": [
        {
          "output_type": "execute_result",
          "data": {
            "text/plain": [
              "0"
            ]
          },
          "metadata": {
            "tags": []
          },
          "execution_count": 4
        }
      ]
    },
    {
      "cell_type": "code",
      "metadata": {
        "id": "e5m68hCRTBdx"
      },
      "source": [
        "vector = tf.constant([10,10])"
      ],
      "execution_count": 5,
      "outputs": []
    },
    {
      "cell_type": "code",
      "metadata": {
        "id": "onZ5irC3TBhV",
        "colab": {
          "base_uri": "https://localhost:8080/"
        },
        "outputId": "fbbeaeef-2956-405b-e1f3-adddef2837ba"
      },
      "source": [
        "vector"
      ],
      "execution_count": 6,
      "outputs": [
        {
          "output_type": "execute_result",
          "data": {
            "text/plain": [
              "<tf.Tensor: shape=(2,), dtype=int32, numpy=array([10, 10], dtype=int32)>"
            ]
          },
          "metadata": {
            "tags": []
          },
          "execution_count": 6
        }
      ]
    },
    {
      "cell_type": "code",
      "metadata": {
        "id": "ZbDVnlliTBkg"
      },
      "source": [
        "vector1 = tf.constant([[10, 10], [20, 10]])"
      ],
      "execution_count": 7,
      "outputs": []
    },
    {
      "cell_type": "code",
      "metadata": {
        "id": "Wwrr-KVfS1Pg"
      },
      "source": [
        "vector1 = tf.constant([[10, 10], [20, 10], [30, 20]])"
      ],
      "execution_count": 8,
      "outputs": []
    },
    {
      "cell_type": "code",
      "metadata": {
        "colab": {
          "base_uri": "https://localhost:8080/"
        },
        "id": "bKEp8GXW_EVX",
        "outputId": "09d750cb-1c2e-401d-dc79-97c3e78488ee"
      },
      "source": [
        "vector1.numpy"
      ],
      "execution_count": 9,
      "outputs": [
        {
          "output_type": "execute_result",
          "data": {
            "text/plain": [
              "<bound method _EagerTensorBase.numpy of <tf.Tensor: shape=(3, 2), dtype=int32, numpy=\n",
              "array([[10, 10],\n",
              "       [20, 10],\n",
              "       [30, 20]], dtype=int32)>>"
            ]
          },
          "metadata": {
            "tags": []
          },
          "execution_count": 9
        }
      ]
    },
    {
      "cell_type": "code",
      "metadata": {
        "colab": {
          "base_uri": "https://localhost:8080/"
        },
        "id": "V_bvKKuKnXDw",
        "outputId": "54810077-7d54-4ae8-e2e0-7ca881c8a31d"
      },
      "source": [
        "vector.ndim"
      ],
      "execution_count": 10,
      "outputs": [
        {
          "output_type": "execute_result",
          "data": {
            "text/plain": [
              "1"
            ]
          },
          "metadata": {
            "tags": []
          },
          "execution_count": 10
        }
      ]
    },
    {
      "cell_type": "markdown",
      "metadata": {
        "id": "MGgdqBbkxW4I"
      },
      "source": [
        "# Mutable and Immutable Variables"
      ]
    },
    {
      "cell_type": "code",
      "metadata": {
        "id": "rHWliDDKAHzM"
      },
      "source": [
        "a=tf.Variable(2.)"
      ],
      "execution_count": 11,
      "outputs": []
    },
    {
      "cell_type": "code",
      "metadata": {
        "id": "d8QPOQvZxOHy",
        "colab": {
          "base_uri": "https://localhost:8080/"
        },
        "outputId": "1a3f6419-382a-4abc-c028-987456e8133e"
      },
      "source": [
        "a.assign(3)"
      ],
      "execution_count": 12,
      "outputs": [
        {
          "output_type": "execute_result",
          "data": {
            "text/plain": [
              "<tf.Variable 'UnreadVariable' shape=() dtype=float32, numpy=3.0>"
            ]
          },
          "metadata": {
            "tags": []
          },
          "execution_count": 12
        }
      ]
    },
    {
      "cell_type": "code",
      "metadata": {
        "colab": {
          "base_uri": "https://localhost:8080/"
        },
        "id": "o3t7f-hbAH1b",
        "outputId": "5905b00b-91e0-4741-da45-256ba2255b88"
      },
      "source": [
        "a"
      ],
      "execution_count": 13,
      "outputs": [
        {
          "output_type": "execute_result",
          "data": {
            "text/plain": [
              "<tf.Variable 'Variable:0' shape=() dtype=float32, numpy=3.0>"
            ]
          },
          "metadata": {
            "tags": []
          },
          "execution_count": 13
        }
      ]
    },
    {
      "cell_type": "code",
      "metadata": {
        "id": "ijMx1o40AH5H"
      },
      "source": [
        "changeable_tensor=tf.Variable([10, 7])\n",
        "nonchangeable_tensor=tf.constant([10, 7])"
      ],
      "execution_count": 14,
      "outputs": []
    },
    {
      "cell_type": "code",
      "metadata": {
        "colab": {
          "base_uri": "https://localhost:8080/"
        },
        "id": "D0FMgKEuAH7i",
        "outputId": "06c02db0-d746-427b-eb51-34435fb4a257"
      },
      "source": [
        "changeable_tensor, nonchangeable_tensor\n"
      ],
      "execution_count": 15,
      "outputs": [
        {
          "output_type": "execute_result",
          "data": {
            "text/plain": [
              "(<tf.Variable 'Variable:0' shape=(2,) dtype=int32, numpy=array([10,  7], dtype=int32)>,\n",
              " <tf.Tensor: shape=(2,), dtype=int32, numpy=array([10,  7], dtype=int32)>)"
            ]
          },
          "metadata": {
            "tags": []
          },
          "execution_count": 15
        }
      ]
    },
    {
      "cell_type": "code",
      "metadata": {
        "colab": {
          "base_uri": "https://localhost:8080/"
        },
        "id": "AJp8LUaqAH_H",
        "outputId": "71c610b6-339b-4853-e7c2-f752bfe54e51"
      },
      "source": [
        "changeable_tensor[0].assign(7)\n",
        "changeable_tensor"
      ],
      "execution_count": 16,
      "outputs": [
        {
          "output_type": "execute_result",
          "data": {
            "text/plain": [
              "<tf.Variable 'Variable:0' shape=(2,) dtype=int32, numpy=array([7, 7], dtype=int32)>"
            ]
          },
          "metadata": {
            "tags": []
          },
          "execution_count": 16
        }
      ]
    },
    {
      "cell_type": "markdown",
      "metadata": {
        "id": "71bPOFvDxihb"
      },
      "source": [
        "# Random Tensors"
      ]
    },
    {
      "cell_type": "code",
      "metadata": {
        "id": "hBDhIdDCAIBd",
        "colab": {
          "base_uri": "https://localhost:8080/"
        },
        "outputId": "e84624e5-77e9-4d5d-bae4-3f2366b9f869"
      },
      "source": [
        "random1 = tf.random.Generator.from_seed(42)\n",
        "random1 = random1.normal(shape=(3,2))\n",
        "\n",
        "random2 = tf.random.Generator.from_seed(42)\n",
        "random2 = random2.normal(shape=(3,2))\n",
        "\n",
        "random1, random2, random1 == random2"
      ],
      "execution_count": 17,
      "outputs": [
        {
          "output_type": "execute_result",
          "data": {
            "text/plain": [
              "(<tf.Tensor: shape=(3, 2), dtype=float32, numpy=\n",
              " array([[-0.7565803 , -0.06854702],\n",
              "        [ 0.07595026, -1.2573844 ],\n",
              "        [-0.23193763, -1.8107855 ]], dtype=float32)>,\n",
              " <tf.Tensor: shape=(3, 2), dtype=float32, numpy=\n",
              " array([[-0.7565803 , -0.06854702],\n",
              "        [ 0.07595026, -1.2573844 ],\n",
              "        [-0.23193763, -1.8107855 ]], dtype=float32)>,\n",
              " <tf.Tensor: shape=(3, 2), dtype=bool, numpy=\n",
              " array([[ True,  True],\n",
              "        [ True,  True],\n",
              "        [ True,  True]])>)"
            ]
          },
          "metadata": {
            "tags": []
          },
          "execution_count": 17
        }
      ]
    },
    {
      "cell_type": "code",
      "metadata": {
        "id": "pt9M1xjeAIFR"
      },
      "source": [
        "not_shuffle = tf.constant([[10, 7], [3, 4], [2, 5]])"
      ],
      "execution_count": 18,
      "outputs": []
    },
    {
      "cell_type": "code",
      "metadata": {
        "id": "X_fexFnEAIHl",
        "colab": {
          "base_uri": "https://localhost:8080/"
        },
        "outputId": "39ab2341-657c-4e94-d305-2ac99349d237"
      },
      "source": [
        "not_shuffle.ndim"
      ],
      "execution_count": 19,
      "outputs": [
        {
          "output_type": "execute_result",
          "data": {
            "text/plain": [
              "2"
            ]
          },
          "metadata": {
            "tags": []
          },
          "execution_count": 19
        }
      ]
    },
    {
      "cell_type": "code",
      "metadata": {
        "id": "w6egdf2mAILo",
        "colab": {
          "base_uri": "https://localhost:8080/"
        },
        "outputId": "fb9bf315-c312-4a19-b16a-f3e483d77818"
      },
      "source": [
        "not_shuffle"
      ],
      "execution_count": 20,
      "outputs": [
        {
          "output_type": "execute_result",
          "data": {
            "text/plain": [
              "<tf.Tensor: shape=(3, 2), dtype=int32, numpy=\n",
              "array([[10,  7],\n",
              "       [ 3,  4],\n",
              "       [ 2,  5]], dtype=int32)>"
            ]
          },
          "metadata": {
            "tags": []
          },
          "execution_count": 20
        }
      ]
    },
    {
      "cell_type": "code",
      "metadata": {
        "id": "fYe4sJPVAIOG",
        "colab": {
          "base_uri": "https://localhost:8080/"
        },
        "outputId": "f7ad23a4-ba51-4778-b69f-f51f241fc8a0"
      },
      "source": [
        "tf.random.set_seed(42)\n",
        "tf.random.shuffle(not_shuffle, seed=42)"
      ],
      "execution_count": 21,
      "outputs": [
        {
          "output_type": "execute_result",
          "data": {
            "text/plain": [
              "<tf.Tensor: shape=(3, 2), dtype=int32, numpy=\n",
              "array([[10,  7],\n",
              "       [ 3,  4],\n",
              "       [ 2,  5]], dtype=int32)>"
            ]
          },
          "metadata": {
            "tags": []
          },
          "execution_count": 21
        }
      ]
    },
    {
      "cell_type": "markdown",
      "metadata": {
        "id": "bZm7eLpQzgDQ"
      },
      "source": [
        "# Numpy array to Tensors"
      ]
    },
    {
      "cell_type": "code",
      "metadata": {
        "id": "Vyj8F_p2AIUo"
      },
      "source": [
        "import numpy as np"
      ],
      "execution_count": 22,
      "outputs": []
    },
    {
      "cell_type": "code",
      "metadata": {
        "id": "DqtoOq3hAIYc"
      },
      "source": [
        "numpy_arr = np.arange(1, 25, dtype=np.int32)"
      ],
      "execution_count": 23,
      "outputs": []
    },
    {
      "cell_type": "code",
      "metadata": {
        "id": "3odqY5yQAIbF",
        "colab": {
          "base_uri": "https://localhost:8080/"
        },
        "outputId": "7049537b-b7e8-462b-a9ae-d22ef22af117"
      },
      "source": [
        "tf.constant(numpy_arr)"
      ],
      "execution_count": 24,
      "outputs": [
        {
          "output_type": "execute_result",
          "data": {
            "text/plain": [
              "<tf.Tensor: shape=(24,), dtype=int32, numpy=\n",
              "array([ 1,  2,  3,  4,  5,  6,  7,  8,  9, 10, 11, 12, 13, 14, 15, 16, 17,\n",
              "       18, 19, 20, 21, 22, 23, 24], dtype=int32)>"
            ]
          },
          "metadata": {
            "tags": []
          },
          "execution_count": 24
        }
      ]
    },
    {
      "cell_type": "code",
      "metadata": {
        "id": "HGFbYPqkAIew",
        "colab": {
          "base_uri": "https://localhost:8080/"
        },
        "outputId": "4bfdec1b-9c63-4535-f9a5-9fba504e0127"
      },
      "source": [
        "tf.constant(numpy_arr, shape=(3, 2, 4))"
      ],
      "execution_count": 25,
      "outputs": [
        {
          "output_type": "execute_result",
          "data": {
            "text/plain": [
              "<tf.Tensor: shape=(3, 2, 4), dtype=int32, numpy=\n",
              "array([[[ 1,  2,  3,  4],\n",
              "        [ 5,  6,  7,  8]],\n",
              "\n",
              "       [[ 9, 10, 11, 12],\n",
              "        [13, 14, 15, 16]],\n",
              "\n",
              "       [[17, 18, 19, 20],\n",
              "        [21, 22, 23, 24]]], dtype=int32)>"
            ]
          },
          "metadata": {
            "tags": []
          },
          "execution_count": 25
        }
      ]
    },
    {
      "cell_type": "code",
      "metadata": {
        "id": "10gC5DvXAIha"
      },
      "source": [
        "var1 = tf.Variable(numpy_arr)"
      ],
      "execution_count": 26,
      "outputs": []
    },
    {
      "cell_type": "code",
      "metadata": {
        "id": "Pblrr7h7AIlf",
        "colab": {
          "base_uri": "https://localhost:8080/"
        },
        "outputId": "4f7a6f28-9f34-4697-ad49-a8338e144687"
      },
      "source": [
        "var1[0].assign(-110)"
      ],
      "execution_count": 27,
      "outputs": [
        {
          "output_type": "execute_result",
          "data": {
            "text/plain": [
              "<tf.Variable 'UnreadVariable' shape=(24,) dtype=int32, numpy=\n",
              "array([-110,    2,    3,    4,    5,    6,    7,    8,    9,   10,   11,\n",
              "         12,   13,   14,   15,   16,   17,   18,   19,   20,   21,   22,\n",
              "         23,   24], dtype=int32)>"
            ]
          },
          "metadata": {
            "tags": []
          },
          "execution_count": 27
        }
      ]
    },
    {
      "cell_type": "code",
      "metadata": {
        "id": "glOeJnQGAIn-"
      },
      "source": [
        ""
      ],
      "execution_count": 27,
      "outputs": []
    },
    {
      "cell_type": "markdown",
      "metadata": {
        "id": "0eCw4At8_LuE"
      },
      "source": [
        "# Getting info from tensors"
      ]
    },
    {
      "cell_type": "code",
      "metadata": {
        "id": "pnmqxPSMAIsW"
      },
      "source": [
        "new_tensor = tf.Variable([[1,2],[3,4]])"
      ],
      "execution_count": 28,
      "outputs": []
    },
    {
      "cell_type": "code",
      "metadata": {
        "id": "eduWqrI1AIuo",
        "colab": {
          "base_uri": "https://localhost:8080/"
        },
        "outputId": "4055d759-92bb-4a63-8423-ecfd8903ad91"
      },
      "source": [
        "rank_4_tensor = tf.zeros(shape=[2,3,4,5])\n",
        "rank_4_tensor"
      ],
      "execution_count": 29,
      "outputs": [
        {
          "output_type": "execute_result",
          "data": {
            "text/plain": [
              "<tf.Tensor: shape=(2, 3, 4, 5), dtype=float32, numpy=\n",
              "array([[[[0., 0., 0., 0., 0.],\n",
              "         [0., 0., 0., 0., 0.],\n",
              "         [0., 0., 0., 0., 0.],\n",
              "         [0., 0., 0., 0., 0.]],\n",
              "\n",
              "        [[0., 0., 0., 0., 0.],\n",
              "         [0., 0., 0., 0., 0.],\n",
              "         [0., 0., 0., 0., 0.],\n",
              "         [0., 0., 0., 0., 0.]],\n",
              "\n",
              "        [[0., 0., 0., 0., 0.],\n",
              "         [0., 0., 0., 0., 0.],\n",
              "         [0., 0., 0., 0., 0.],\n",
              "         [0., 0., 0., 0., 0.]]],\n",
              "\n",
              "\n",
              "       [[[0., 0., 0., 0., 0.],\n",
              "         [0., 0., 0., 0., 0.],\n",
              "         [0., 0., 0., 0., 0.],\n",
              "         [0., 0., 0., 0., 0.]],\n",
              "\n",
              "        [[0., 0., 0., 0., 0.],\n",
              "         [0., 0., 0., 0., 0.],\n",
              "         [0., 0., 0., 0., 0.],\n",
              "         [0., 0., 0., 0., 0.]],\n",
              "\n",
              "        [[0., 0., 0., 0., 0.],\n",
              "         [0., 0., 0., 0., 0.],\n",
              "         [0., 0., 0., 0., 0.],\n",
              "         [0., 0., 0., 0., 0.]]]], dtype=float32)>"
            ]
          },
          "metadata": {
            "tags": []
          },
          "execution_count": 29
        }
      ]
    },
    {
      "cell_type": "code",
      "metadata": {
        "id": "wwE4vVsmAIy5",
        "colab": {
          "base_uri": "https://localhost:8080/"
        },
        "outputId": "0c6f4da9-7273-49ab-8350-335199fd0b86"
      },
      "source": [
        "rank_4_tensor.shape, rank_4_tensor.ndim, tf.size(rank_4_tensor)"
      ],
      "execution_count": 30,
      "outputs": [
        {
          "output_type": "execute_result",
          "data": {
            "text/plain": [
              "(TensorShape([2, 3, 4, 5]), 4, <tf.Tensor: shape=(), dtype=int32, numpy=120>)"
            ]
          },
          "metadata": {
            "tags": []
          },
          "execution_count": 30
        }
      ]
    },
    {
      "cell_type": "code",
      "metadata": {
        "id": "LaOV96pHAI1S"
      },
      "source": [
        ""
      ],
      "execution_count": 30,
      "outputs": []
    },
    {
      "cell_type": "markdown",
      "metadata": {
        "id": "GxZx9YZ1BLzp"
      },
      "source": [
        "# Tensors Indexing"
      ]
    },
    {
      "cell_type": "code",
      "metadata": {
        "id": "rdiJPBBFAI5W",
        "colab": {
          "base_uri": "https://localhost:8080/"
        },
        "outputId": "7fdf3bae-83a1-44f0-fcea-43e222479b73"
      },
      "source": [
        "# first 2 elements of each dimension\n",
        "rank_4_tensor[:2, :2, :2, :2]"
      ],
      "execution_count": 36,
      "outputs": [
        {
          "output_type": "execute_result",
          "data": {
            "text/plain": [
              "<tf.Tensor: shape=(2, 2, 2, 2), dtype=float32, numpy=\n",
              "array([[[[0., 0.],\n",
              "         [0., 0.]],\n",
              "\n",
              "        [[0., 0.],\n",
              "         [0., 0.]]],\n",
              "\n",
              "\n",
              "       [[[0., 0.],\n",
              "         [0., 0.]],\n",
              "\n",
              "        [[0., 0.],\n",
              "         [0., 0.]]]], dtype=float32)>"
            ]
          },
          "metadata": {
            "tags": []
          },
          "execution_count": 36
        }
      ]
    },
    {
      "cell_type": "code",
      "metadata": {
        "id": "Ii1d3IX3AI8O",
        "colab": {
          "base_uri": "https://localhost:8080/"
        },
        "outputId": "dd0dd5c4-dc58-4eeb-d0b0-9c657db9f743"
      },
      "source": [
        "# various info\n",
        "\n",
        "print(rank_4_tensor.dtype)\n",
        "print(rank_4_tensor.ndim)\n",
        "print(rank_4_tensor.shape)\n",
        "print(rank_4_tensor.shape[0])\n",
        "print(rank_4_tensor.shape[-1])\n",
        "print(tf.size(rank_4_tensor))"
      ],
      "execution_count": 37,
      "outputs": [
        {
          "output_type": "stream",
          "text": [
            "<dtype: 'float32'>\n",
            "4\n",
            "(2, 3, 4, 5)\n",
            "2\n",
            "5\n",
            "tf.Tensor(120, shape=(), dtype=int32)\n"
          ],
          "name": "stdout"
        }
      ]
    },
    {
      "cell_type": "code",
      "metadata": {
        "id": "qETUVS2rdn97"
      },
      "source": [
        "# rank_4_tensor"
      ],
      "execution_count": 41,
      "outputs": []
    },
    {
      "cell_type": "code",
      "metadata": {
        "id": "Sa5p1-77EwAW",
        "colab": {
          "base_uri": "https://localhost:8080/"
        },
        "outputId": "d427a6f2-4856-4cce-89c8-ca1d98074efa"
      },
      "source": [
        " # get the first element of each dimension from each index except for the final one\n",
        "\n",
        " rank_4_tensor[:1, :1, :1, :]"
      ],
      "execution_count": 38,
      "outputs": [
        {
          "output_type": "execute_result",
          "data": {
            "text/plain": [
              "<tf.Tensor: shape=(1, 1, 1, 5), dtype=float32, numpy=array([[[[0., 0., 0., 0., 0.]]]], dtype=float32)>"
            ]
          },
          "metadata": {
            "tags": []
          },
          "execution_count": 38
        }
      ]
    },
    {
      "cell_type": "code",
      "metadata": {
        "id": "pO16NXGWEwFG"
      },
      "source": [
        "# create a rank 2 tensor\n",
        "\n",
        "rank_2_tensor = tf.ones(shape=[2, 2])"
      ],
      "execution_count": 43,
      "outputs": []
    },
    {
      "cell_type": "code",
      "metadata": {
        "id": "Wbc3RX2uEwGh"
      },
      "source": [
        "#get the last item of each row\n",
        "\n",
        "rank_new = rank_2_tensor[:, -1]"
      ],
      "execution_count": 44,
      "outputs": []
    },
    {
      "cell_type": "code",
      "metadata": {
        "id": "sef1Zei9EwKl",
        "colab": {
          "base_uri": "https://localhost:8080/"
        },
        "outputId": "a686d710-dfff-41fd-fba7-34a62598e9af"
      },
      "source": [
        "rank_new"
      ],
      "execution_count": 45,
      "outputs": [
        {
          "output_type": "execute_result",
          "data": {
            "text/plain": [
              "<tf.Tensor: shape=(2,), dtype=float32, numpy=array([1., 1.], dtype=float32)>"
            ]
          },
          "metadata": {
            "tags": []
          },
          "execution_count": 45
        }
      ]
    },
    {
      "cell_type": "code",
      "metadata": {
        "id": "6T2qHpx4EwNC",
        "colab": {
          "base_uri": "https://localhost:8080/"
        },
        "outputId": "227219c9-123e-40fb-c5ed-2d38f45789be"
      },
      "source": [
        "rank_3_tensor = rank_2_tensor[..., tf.newaxis]\n",
        "rank_2_tensor, rank_3_tensor"
      ],
      "execution_count": 47,
      "outputs": [
        {
          "output_type": "execute_result",
          "data": {
            "text/plain": [
              "(<tf.Tensor: shape=(2, 2), dtype=float32, numpy=\n",
              " array([[1., 1.],\n",
              "        [1., 1.]], dtype=float32)>,\n",
              " <tf.Tensor: shape=(2, 2, 1), dtype=float32, numpy=\n",
              " array([[[1.],\n",
              "         [1.]],\n",
              " \n",
              "        [[1.],\n",
              "         [1.]]], dtype=float32)>)"
            ]
          },
          "metadata": {
            "tags": []
          },
          "execution_count": 47
        }
      ]
    },
    {
      "cell_type": "code",
      "metadata": {
        "id": "75F9_J9EEwQ6",
        "colab": {
          "base_uri": "https://localhost:8080/"
        },
        "outputId": "3ca534cb-5344-4932-ba2a-bf0716eb73b2"
      },
      "source": [
        "tf.expand_dims(rank_2_tensor, axis=0)"
      ],
      "execution_count": 53,
      "outputs": [
        {
          "output_type": "execute_result",
          "data": {
            "text/plain": [
              "<tf.Tensor: shape=(1, 2, 2), dtype=float32, numpy=\n",
              "array([[[1., 1.],\n",
              "        [1., 1.]]], dtype=float32)>"
            ]
          },
          "metadata": {
            "tags": []
          },
          "execution_count": 53
        }
      ]
    },
    {
      "cell_type": "code",
      "metadata": {
        "id": "vl8Mh-3sEwTg"
      },
      "source": [
        ""
      ],
      "execution_count": 31,
      "outputs": []
    },
    {
      "cell_type": "code",
      "metadata": {
        "id": "_tL1HrJrEwXZ"
      },
      "source": [
        ""
      ],
      "execution_count": 31,
      "outputs": []
    },
    {
      "cell_type": "code",
      "metadata": {
        "id": "y7IqgOQZEwaI"
      },
      "source": [
        ""
      ],
      "execution_count": 31,
      "outputs": []
    },
    {
      "cell_type": "code",
      "metadata": {
        "id": "KDEd9tHHEwdj"
      },
      "source": [
        ""
      ],
      "execution_count": 31,
      "outputs": []
    },
    {
      "cell_type": "code",
      "metadata": {
        "id": "EEQRtJ9pEwhB"
      },
      "source": [
        ""
      ],
      "execution_count": 31,
      "outputs": []
    },
    {
      "cell_type": "code",
      "metadata": {
        "id": "-2qEYt5dEwkv"
      },
      "source": [
        ""
      ],
      "execution_count": 31,
      "outputs": []
    },
    {
      "cell_type": "code",
      "metadata": {
        "id": "smGL9DfpEwnW"
      },
      "source": [
        ""
      ],
      "execution_count": 31,
      "outputs": []
    },
    {
      "cell_type": "code",
      "metadata": {
        "id": "-iuPBklgEwrZ"
      },
      "source": [
        ""
      ],
      "execution_count": 31,
      "outputs": []
    },
    {
      "cell_type": "code",
      "metadata": {
        "id": "RzHZTZNzEwt6"
      },
      "source": [
        ""
      ],
      "execution_count": 31,
      "outputs": []
    },
    {
      "cell_type": "code",
      "metadata": {
        "id": "qYyNWo_VEwyP"
      },
      "source": [
        ""
      ],
      "execution_count": 31,
      "outputs": []
    },
    {
      "cell_type": "code",
      "metadata": {
        "id": "rf6zyo0PEw0k"
      },
      "source": [
        ""
      ],
      "execution_count": 31,
      "outputs": []
    },
    {
      "cell_type": "code",
      "metadata": {
        "id": "tGBIUgG_Ew48"
      },
      "source": [
        ""
      ],
      "execution_count": 31,
      "outputs": []
    },
    {
      "cell_type": "code",
      "metadata": {
        "id": "PTl_GIBCEw7O"
      },
      "source": [
        ""
      ],
      "execution_count": 31,
      "outputs": []
    },
    {
      "cell_type": "code",
      "metadata": {
        "id": "o5-xNC4XEw_Z"
      },
      "source": [
        ""
      ],
      "execution_count": 31,
      "outputs": []
    },
    {
      "cell_type": "code",
      "metadata": {
        "id": "hUuop6bmExCD"
      },
      "source": [
        ""
      ],
      "execution_count": 31,
      "outputs": []
    },
    {
      "cell_type": "code",
      "metadata": {
        "id": "DjZHOVy4ExGB"
      },
      "source": [
        ""
      ],
      "execution_count": 31,
      "outputs": []
    }
  ]
}